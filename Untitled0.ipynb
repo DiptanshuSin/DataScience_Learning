{
  "nbformat": 4,
  "nbformat_minor": 0,
  "metadata": {
    "colab": {
      "provenance": [],
      "authorship_tag": "ABX9TyO91unDI0R6ECjShWKLYDtP",
      "include_colab_link": true
    },
    "kernelspec": {
      "name": "python3",
      "display_name": "Python 3"
    },
    "language_info": {
      "name": "python"
    }
  },
  "cells": [
    {
      "cell_type": "markdown",
      "metadata": {
        "id": "view-in-github",
        "colab_type": "text"
      },
      "source": [
        "<a href=\"https://colab.research.google.com/github/DiptanshuSin/DataScience_Learning/blob/main/Untitled0.ipynb\" target=\"_parent\"><img src=\"https://colab.research.google.com/assets/colab-badge.svg\" alt=\"Open In Colab\"/></a>"
      ]
    },
    {
      "cell_type": "code",
      "execution_count": null,
      "metadata": {
        "colab": {
          "base_uri": "https://localhost:8080/"
        },
        "id": "uTiDMNxertbN",
        "outputId": "a7cad894-ceb1-47b8-d357-b1abcb8e257a"
      },
      "outputs": [
        {
          "output_type": "stream",
          "name": "stdout",
          "text": [
            "negative\n",
            "negative\n"
          ]
        }
      ],
      "source": [
        "# Your code here\n",
        "num1= -1\n",
        "if(num1>0):\n",
        "  print(\"positive\")\n",
        "elif(num1==0):\n",
        "  print(\"zero\")\n",
        "# Your code here\n",
        "num1= -1\n",
        "if(num1>0):\n",
        "  print(\"positive\")\n",
        "elif(num1==0):\n",
        "  print(\"zero\")\n",
        "else:\n",
        "  print(\"negative\")\n",
        "#elif(num1==0){  #invalid syntax\n",
        "#print(\"zero\")\n",
        "#}\n",
        "#else{\n",
        "# Your code here\n",
        "num1= -1\n",
        "if(num1>0):\n",
        "  print(\"positive\")\n",
        "elif(num1==0):\n",
        "  print(\"zero\")\n",
        "# Your code here\n",
        "num1= -1\n",
        "if(num1>0):\n",
        "  print(\"positive\")\n",
        "elif(num1==0):\n",
        "  print(\"zero\")\n",
        "else:\n",
        "  print(\"negative\")\n",
        "#elif(num1==0){  #invalid syntax\n",
        "#print(\"zero\")\n",
        "#}\n",
        "#else{\n",
        "#print(\"negative\")\n",
        "#}\n"
      ]
    },
    {
      "cell_type": "code",
      "source": [
        "def only_numeric(a):\n",
        "  n = []\n",
        "  for i in a:\n",
        "    if type(a)== int or type(a)== float:\n",
        "      n.append(i)\n",
        "      return n\n",
        "\n",
        "\n",
        "      print(only_numeric([1,2,3.4,\"Aj\"]))\n"
      ],
      "metadata": {
        "id": "HIXoLnoWsBFU"
      },
      "execution_count": null,
      "outputs": []
    },
    {
      "cell_type": "code",
      "source": [
        "def only_numeric(a):\n",
        "  n = []\n",
        "  for i in a:\n",
        "    if type(a)== int or type(a)== float:\n",
        "      n.append(i)\n",
        "      return n\n"
      ],
      "metadata": {
        "id": "T_q_tyzlw_pJ"
      },
      "execution_count": null,
      "outputs": []
    },
    {
      "cell_type": "code",
      "source": [
        "only_numeric([1,2,3.3, \"ABC\"])"
      ],
      "metadata": {
        "id": "02mf-ZjhtwTx"
      },
      "execution_count": null,
      "outputs": []
    },
    {
      "cell_type": "code",
      "source": [
        "import numpy as np\n",
        "import matplotlib.pyplot as plt\n",
        "\n",
        "# Step 1: Simulate a grayscale image (8x8 pixels)\n",
        "image = np.random.randint(0, 256, (8, 8))  # Values from 0 to 255\n",
        "print(\"Original Image:\\n\", image)\n",
        "\n",
        "# Step 2: Brightness Increase (Vectorized Operation)\n",
        "bright_image = image + 50\n",
        "bright_image = np.clip(bright_image, 0, 255)  # Ensuring values remain 0-255\n",
        "print(\"\\nBrightened Image:\\n\", bright_image)\n",
        "\n",
        "# Step 3: Edge Detection Using a Sobel Kernel (Convolution Simulation)\n",
        "# Kernel for vertical edges\n",
        "sobel_kernel = np.array([[-1, 0, 1],\n",
        "                         [-2, 0, 2],\n",
        "                         [-1, 0, 1]])\n",
        "\n",
        "# Function to apply kernel (simple convolution without padding)\n",
        "def apply_convolution(img, kernel):\n",
        "    output = np.zeros((img.shape[0] - 2, img.shape[1] - 2))\n",
        "    for i in range(output.shape[0]):\n",
        "        for j in range(output.shape[1]):\n",
        "            region = img[i:i+3, j:j+3]\n",
        "            output[i, j] = np.sum(region * kernel)\n",
        "    return output\n",
        "\n",
        "edges = apply_convolution(image, sobel_kernel)\n",
        "print(\"\\nEdge Detected Image:\\n\", edges)\n",
        "\n",
        "# Step 4: FFT - Analyze Frequency Spectrum\n",
        "fft_image = np.fft.fft2(image)\n",
        "magnitude_spectrum = np.abs(fft_image)\n",
        "\n",
        "print(\"\\nFFT Magnitude Spectrum:\\n\", magnitude_spectrum)\n",
        "\n",
        "# Step 5: Visualizations (Optional if using Jupyter)\n",
        "plt.figure(figsize=(12, 4))\n",
        "plt.subplot(1, 3, 1)\n",
        "plt.imshow(image, cmap='gray')\n",
        "plt.title('Original')\n",
        "\n",
        "plt.subplot(1, 3, 2)\n",
        "plt.imshow(bright_image, cmap='gray')\n",
        "plt.title('Brightened')\n",
        "\n",
        "plt.subplot(1, 3, 3)\n",
        "plt.imshow(edges, cmap='gray')\n",
        "plt.title('Edges (Sobel)')\n",
        "\n",
        "plt.tight_layout()\n",
        "plt.show()\n"
      ],
      "metadata": {
        "id": "3-VpYCwExFgt",
        "colab": {
          "base_uri": "https://localhost:8080/",
          "height": 1000
        },
        "outputId": "7523f40d-5b5e-4622-fa9d-10e1d8273eb8"
      },
      "execution_count": null,
      "outputs": [
        {
          "output_type": "stream",
          "name": "stdout",
          "text": [
            "Original Image:\n",
            " [[205 165 142  30 151  19 234  42]\n",
            " [149 139 162 133  24 213 216  78]\n",
            " [ 33  14 146 147 208 235 115 149]\n",
            " [123  18  15 194  15  52 200 115]\n",
            " [  8 122  40 227 166 210  61 215]\n",
            " [ 99  40 230   5 251 252  56 202]\n",
            " [174 169 153 242 100 221 143 210]\n",
            " [ 67 103  25 124 118 239  89 252]]\n",
            "\n",
            "Brightened Image:\n",
            " [[255 215 192  80 201  69 255  92]\n",
            " [199 189 212 183  74 255 255 128]\n",
            " [ 83  64 196 197 255 255 165 199]\n",
            " [173  68  65 244  65 102 250 165]\n",
            " [ 58 172  90 255 216 255 111 255]\n",
            " [149  90 255  55 255 255 106 252]\n",
            " [224 219 203 255 150 255 193 255]\n",
            " [117 153  75 174 168 255 139 255]]\n",
            "\n",
            "Edge Detected Image:\n",
            " [[  76.  -14. -205.  237.  374. -333.]\n",
            " [ 131.  436.  -14.  114.  191. -244.]\n",
            " [ -71.  590.  188. -213.  172.   45.]\n",
            " [  87.  351.  273.   71. -220.   23.]\n",
            " [ 273.  108.  115.  456. -452. -106.]\n",
            " [  47.  132.    8.  320. -138.  -59.]]\n",
            "\n",
            "FFT Magnitude Spectrum:\n",
            " [[8494.          953.89114835  205.45559131  429.49700476  658.\n",
            "   429.49700476  205.45559131  953.89114835]\n",
            " [ 594.80334361  503.90301953  143.89280546  677.22602048  715.11917886\n",
            "   553.86343704  749.3353272   490.96659472]\n",
            " [ 654.28128508   51.7699729   404.71224345  395.34141535  640.44047342\n",
            "   888.57181472  642.92456789  499.49691221]\n",
            " [ 288.84768032  662.08830014  282.92855532 1061.2547983  1359.42508437\n",
            "   844.07807866  357.90342348  691.25920833]\n",
            " [ 498.          442.7088165   169.00887551  367.15242583   18.\n",
            "   367.15242583  169.00887551  442.7088165 ]\n",
            " [ 288.84768032  691.25920833  357.90342348  844.07807866 1359.42508437\n",
            "  1061.2547983   282.92855532  662.08830014]\n",
            " [ 654.28128508  499.49691221  642.92456789  888.57181472  640.44047342\n",
            "   395.34141535  404.71224345   51.7699729 ]\n",
            " [ 594.80334361  490.96659472  749.3353272   553.86343704  715.11917886\n",
            "   677.22602048  143.89280546  503.90301953]]\n"
          ]
        },
        {
          "output_type": "display_data",
          "data": {
            "text/plain": [
              "<Figure size 1200x400 with 3 Axes>"
            ],
            "image/png": "[encoded data removed]"
          },
          "metadata": {}
        }
      ]
    }
  ]
}