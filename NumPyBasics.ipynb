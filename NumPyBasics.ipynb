{
 "cells": [
  {
   "cell_type": "code",
   "execution_count": 2,
   "id": "4975f260-453b-4f96-bab8-de7702cccfb0",
   "metadata": {},
   "outputs": [
    {
     "name": "stdout",
     "output_type": "stream",
     "text": [
      "[10 11 12 13 14 15 16 17 18 19 20 21 22 23 24 25 26 27 28 29 30 31 32 33\n",
      " 34 35 36 37 38 39 40 41 42 43 44 45 46 47 48 49 50]\n",
      "[[0. 0. 0.]\n",
      " [0. 0. 0.]\n",
      " [0. 0. 0.]]\n"
     ]
    }
   ],
   "source": [
    "#Create a 1D NumPy array of Integers from 10 to 50\n",
    "import numpy as np\n",
    "arr = np.arange(10,51)\n",
    "print(arr)\n",
    "\n",
    "#Create a 3x3 NumPy array filled with zeros.\n",
    "import numpy as np\n",
    "arr1 = np.zeros((3,3))\n",
    "print(arr1)"
   ]
  },
  {
   "cell_type": "code",
   "execution_count": 9,
   "id": "7a3729ff",
   "metadata": {},
   "outputs": [
    {
     "name": "stdout",
     "output_type": "stream",
     "text": [
      "[[1 1 1 1]\n",
      " [1 1 1 1]\n",
      " [1 1 1 1]\n",
      " [1 1 1 1]]\n"
     ]
    },
    {
     "data": {
      "text/plain": [
       "numpy.ndarray"
      ]
     },
     "execution_count": 9,
     "metadata": {},
     "output_type": "execute_result"
    }
   ],
   "source": [
    "#Create a 4x4 NumPy array filled with ones and change its data type to\n",
    "arr2 = np.ones((4,4), dtype = int)\n",
    "print(arr2)\n",
    "type(arr2)"
   ]
  },
  {
   "cell_type": "code",
   "execution_count": null,
   "id": "039ba093",
   "metadata": {},
   "outputs": [
    {
     "name": "stdout",
     "output_type": "stream",
     "text": [
      "[0.   0.25 0.5  0.75 1.  ]\n",
      "[[1. 0. 0. 0. 0.]\n",
      " [0. 1. 0. 0. 0.]\n",
      " [0. 0. 1. 0. 0.]\n",
      " [0. 0. 0. 1. 0.]\n",
      " [0. 0. 0. 0. 1.]]\n"
     ]
    }
   ],
   "source": [
    "#. Create an array of 5 values evenly spaced between 0 and 1 (inclusive).\n",
    "arr = np.linspace(0,1,5)\n",
    "print(arr)\n",
    "#identity matrix\n",
    "arrI = np.eye(5)\n",
    "print(arrI)"
   ]
  },
  {
   "cell_type": "code",
   "execution_count": null,
   "id": "0345e456",
   "metadata": {},
   "outputs": [
    {
     "name": "stdout",
     "output_type": "stream",
     "text": [
      "[[0 1 2]\n",
      " [3 4 5]\n",
      " [6 7 8]]\n"
     ]
    }
   ],
   "source": [
    "#3x3 matrix value ranging 0 to 8\n",
    "arrP = np.arange(9).reshape(3,3)\n",
    "print(arrP)"
   ]
  },
  {
   "cell_type": "code",
   "execution_count": 19,
   "id": "ac1de3e3",
   "metadata": {},
   "outputs": [
    {
     "name": "stdout",
     "output_type": "stream",
     "text": [
      "[54 91 33 66 61 43 55 87 41 37]\n"
     ]
    }
   ],
   "source": [
    "#Create a 1D array of 10 random integers between 1 and 100.\n",
    "arrR = np.random.randint(1, 101, size=10)\n",
    "print(arrR)"
   ]
  },
  {
   "cell_type": "code",
   "execution_count": null,
   "id": "e8198d68",
   "metadata": {},
   "outputs": [
    {
     "name": "stdout",
     "output_type": "stream",
     "text": [
      "[[7 7 7 7 7]]\n",
      "[[6.6 6.6 6.6 6.6]\n",
      " [6.6 6.6 6.6 6.6]\n",
      " [6.6 6.6 6.6 6.6]\n",
      " [6.6 6.6 6.6 6.6]]\n"
     ]
    }
   ],
   "source": [
    "#Create a NumPy array with 7 repeated five times.\n",
    "arrS = np.full((1,5), 7)\n",
    "print(arrS)\n",
    "\n",
    "arrSix = np.full((4,4), 6.6)\n",
    "print(arrSix)"
   ]
  },
  {
   "cell_type": "code",
   "execution_count": null,
   "id": "7a401972",
   "metadata": {},
   "outputs": [
    {
     "name": "stdout",
     "output_type": "stream",
     "text": [
      "[[  1.           6.21052632  11.42105263  16.63157895  21.84210526]\n",
      " [ 27.05263158  32.26315789  37.47368421  42.68421053  47.89473684]\n",
      " [ 53.10526316  58.31578947  63.52631579  68.73684211  73.94736842]\n",
      " [ 79.15789474  84.36842105  89.57894737  94.78947368 100.        ]]\n"
     ]
    }
   ],
   "source": [
    "arr1D = np.linspace(0,100, 20).reshape(4,5)\n",
    "print(arr1D)"
   ]
  },
  {
   "cell_type": "code",
   "execution_count": 31,
   "id": "e7ddd66f",
   "metadata": {},
   "outputs": [
    {
     "name": "stdout",
     "output_type": "stream",
     "text": [
      "[[ 11  19  29]\n",
      " [ 41  55  71]\n",
      " [ 89 109 131]]\n"
     ]
    }
   ],
   "source": [
    "x = np.arange(2, 11)\n",
    "y = (x ** 2 + 3 * x + 1).reshape(3,3)\n",
    "\n",
    "print(y)  # Vectorized polynomial\n"
   ]
  }
 ],
 "metadata": {
  "kernelspec": {
   "display_name": "Python 3",
   "language": "python",
   "name": "python3"
  },
  "language_info": {
   "codemirror_mode": {
    "name": "ipython",
    "version": 3
   },
   "file_extension": ".py",
   "mimetype": "text/x-python",
   "name": "python",
   "nbconvert_exporter": "python",
   "pygments_lexer": "ipython3",
   "version": "3.13.1"
  }
 },
 "nbformat": 4,
 "nbformat_minor": 5
}
