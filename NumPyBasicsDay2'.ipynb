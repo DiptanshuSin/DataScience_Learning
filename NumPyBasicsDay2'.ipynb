{
 "cells": [
  {
   "cell_type": "code",
   "execution_count": 1,
   "id": "1d7a0896-5b85-4d17-93a6-68379d111ac2",
   "metadata": {},
   "outputs": [
    {
     "name": "stdout",
     "output_type": "stream",
     "text": [
      "[10 11 12 13 14 15 16 17 18 19 20 21 22 23 24 25 26 27 28 29 30 31 32 33\n",
      " 34 35 36 37 38 39 40 41 42 43 44 45 46 47 48 49 50]\n"
     ]
    }
   ],
   "source": [
    "import numpy as np\n",
    "arr = np.arange(10,51)\n",
    "print(arr)"
   ]
  },
  {
   "cell_type": "code",
   "execution_count": 3,
   "id": "2d518c00-e678-4888-b93d-d3f6409c6f0b",
   "metadata": {},
   "outputs": [
    {
     "name": "stdout",
     "output_type": "stream",
     "text": [
      "[[ True  True  True]\n",
      " [ True  True  True]\n",
      " [ True  True  True]]\n"
     ]
    }
   ],
   "source": [
    "arr = np.full((3,3), True, dtype = bool)\n",
    "print(arr)"
   ]
  },
  {
   "cell_type": "code",
   "execution_count": 6,
   "id": "340a0650-a6cd-4f37-96dd-83bf3066b7ac",
   "metadata": {},
   "outputs": [
    {
     "name": "stdout",
     "output_type": "stream",
     "text": [
      "[0.   0.25 0.5  0.75 1.  ]\n"
     ]
    }
   ],
   "source": [
    "arr = np.linspace(0,1, 5)\n",
    "print(arr)"
   ]
  },
  {
   "cell_type": "code",
   "execution_count": 8,
   "id": "b189e416-8d1a-484e-87c8-5200f1d53cba",
   "metadata": {},
   "outputs": [
    {
     "name": "stdout",
     "output_type": "stream",
     "text": [
      "[0.22496275 0.02952814 0.00999446 0.83996705 0.64864356]\n"
     ]
    }
   ],
   "source": [
    "arr = np.random.rand(5)\n",
    "print(arr)"
   ]
  },
  {
   "cell_type": "code",
   "execution_count": 10,
   "id": "a813af3c-41de-4eb9-9a2d-3ecd782c0492",
   "metadata": {},
   "outputs": [
    {
     "name": "stdout",
     "output_type": "stream",
     "text": [
      "[[1 2 3]\n",
      " [4 5 6]]\n"
     ]
    }
   ],
   "source": [
    "arr = np.array([1,2,3,4,5,6]).reshape(2,3)\n",
    "print(arr)"
   ]
  },
  {
   "cell_type": "code",
   "execution_count": 16,
   "id": "d084351f-b7cd-4960-85fe-8205659255b9",
   "metadata": {},
   "outputs": [
    {
     "name": "stdout",
     "output_type": "stream",
     "text": [
      "[[23 67 44 76]\n",
      " [27  2 51 58]\n",
      " [37 77 37 96]\n",
      " [57 59 76 93]]\n",
      "96 2 55.0\n",
      "25.08236432236802\n"
     ]
    }
   ],
   "source": [
    "arr = np.random.randint(0,100,(4,4))\n",
    "print(arr)\n",
    "print(np.max(arr), np.min(arr) , np.mean(arr))\n",
    "print(np.std(arr))"
   ]
  },
  {
   "cell_type": "code",
   "execution_count": 17,
   "id": "94a2b827-a6a8-4d2f-bac9-bc2dd7c00ebb",
   "metadata": {},
   "outputs": [
    {
     "name": "stdout",
     "output_type": "stream",
     "text": [
      "[[ 0  1  2  3  4]\n",
      " [ 5  6  7  8  9]\n",
      " [10 11 12 13 14]\n",
      " [15 16 17 18 19]\n",
      " [20 21 22 23 24]]\n"
     ]
    }
   ],
   "source": [
    "arr = np.arange(25).reshape(5,5)\n",
    "print(arr)"
   ]
  },
  {
   "cell_type": "code",
   "execution_count": 18,
   "id": "4ce7abe8-30b7-4c10-9292-3a7438b95018",
   "metadata": {},
   "outputs": [
    {
     "name": "stdout",
     "output_type": "stream",
     "text": [
      "[ 2  2 12 20]\n"
     ]
    }
   ],
   "source": [
    "a = np.array([1,2,3,4])\n",
    "b = np.array([2,1,4,5])\n",
    "print(a*b)"
   ]
  },
  {
   "cell_type": "code",
   "execution_count": 20,
   "id": "40fb8a4c-3063-4fd7-bfcd-2a2dbb7e6f25",
   "metadata": {},
   "outputs": [
    {
     "name": "stdout",
     "output_type": "stream",
     "text": [
      "[[11 12]\n",
      " [12 14]]\n"
     ]
    }
   ],
   "source": [
    "a = np.array([1,2,2,4]).reshape(2,2)\n",
    "print(a+10)"
   ]
  },
  {
   "cell_type": "code",
   "execution_count": 30,
   "id": "4ba33b69-a4bf-40b1-a359-bc6d1afe7990",
   "metadata": {},
   "outputs": [
    {
     "name": "stdout",
     "output_type": "stream",
     "text": [
      "[[-1 -3]\n",
      " [-2 -2]]\n"
     ]
    }
   ],
   "source": [
    "a= np.random.randint(0,4,(2,2))\n",
    "b=np.random.randint(2,6,(2,2))\n",
    "print(a-b)"
   ]
  },
  {
   "cell_type": "code",
   "execution_count": 31,
   "id": "ef8ea803-04b3-4355-8788-fc5bfab1bf37",
   "metadata": {},
   "outputs": [
    {
     "name": "stdout",
     "output_type": "stream",
     "text": [
      "1\n"
     ]
    }
   ],
   "source": [
    "a = np.array([1,2,3,4])\n",
    "print(a.ndim)"
   ]
  },
  {
   "cell_type": "code",
   "execution_count": 32,
   "id": "40eb1984-f194-4c16-aab2-3dcc7fb45830",
   "metadata": {},
   "outputs": [
    {
     "name": "stdout",
     "output_type": "stream",
     "text": [
      "[10 11 12 13 14 15 16 17 18 19 20 21 22 23 24 25 26 27 28 29 30 31 32 33\n",
      " 34 35 36 37 38 39 40 41 42 43 44 45 46 47 48 49 50]\n"
     ]
    }
   ],
   "source": [
    "import numpy as np\n",
    "arr = np.arange(10,51)\n",
    "print(arr)"
   ]
  },
  {
   "cell_type": "code",
   "execution_count": 33,
   "id": "91ab9ccb-da04-43cf-8987-c8d162ad2eb3",
   "metadata": {},
   "outputs": [
    {
     "name": "stdout",
     "output_type": "stream",
     "text": [
      "[[ True  True  True]\n",
      " [ True  True  True]\n",
      " [ True  True  True]]\n"
     ]
    }
   ],
   "source": [
    "import numpy as np\n",
    "aTrue = np.full((3,3), True, dtype= bool)\n",
    "print(aTrue)"
   ]
  },
  {
   "cell_type": "code",
   "execution_count": 34,
   "id": "9c351a00-c856-485f-8ed6-e8c6f470fbbd",
   "metadata": {},
   "outputs": [
    {
     "name": "stdout",
     "output_type": "stream",
     "text": [
      "[[ 0.6 -0.7]\n",
      " [-0.2  0.4]]\n"
     ]
    }
   ],
   "source": [
    "from numpy.linalg import inv\n",
    "mat = np.array([[4, 7], [2, 6]])\n",
    "print(inv(mat))\n"
   ]
  },
  {
   "cell_type": "code",
   "execution_count": 35,
   "id": "80246e3c-6695-44ef-8c25-da2bd144f2dd",
   "metadata": {},
   "outputs": [
    {
     "name": "stdout",
     "output_type": "stream",
     "text": [
      "[1. 2.]\n"
     ]
    }
   ],
   "source": [
    "from numpy.linalg import inv\n",
    "import numpy as np\n",
    "a = np.array([[2,3] , [3,4]])\n",
    "b = np.array([8,11])\n",
    "x = np.linalg.solve(a,b)\n",
    "print(x)"
   ]
  },
  {
   "cell_type": "code",
   "execution_count": 36,
   "id": "150bbc47-e98a-428f-8090-c1f2afe1b8c5",
   "metadata": {},
   "outputs": [
    {
     "name": "stdout",
     "output_type": "stream",
     "text": [
      "[2. 3.]\n",
      "[[1. 0.]\n",
      " [0. 1.]]\n"
     ]
    }
   ],
   "source": [
    "mat = np.array([[2, 0], [0, 3]])\n",
    "values, vectors = np.linalg.eig(mat)\n",
    "print(values)\n",
    "print(vectors)\n"
   ]
  },
  {
   "cell_type": "code",
   "execution_count": 37,
   "id": "2488e223-9a81-493e-866e-8b00c789afd3",
   "metadata": {},
   "outputs": [
    {
     "name": "stdout",
     "output_type": "stream",
     "text": [
      "[ 2.71828183  7.3890561  20.08553692]\n",
      "[1.         1.41421356 1.73205081]\n"
     ]
    }
   ],
   "source": [
    "arr = np.array([1, 2, 3])\n",
    "print(np.exp(arr))\n",
    "print(np.sqrt(arr))\n"
   ]
  },
  {
   "cell_type": "code",
   "execution_count": 38,
   "id": "34c4f458-908a-4ad8-873c-19c3c07c9af1",
   "metadata": {},
   "outputs": [
    {
     "name": "stdout",
     "output_type": "stream",
     "text": [
      "[ 1.52655666e-16+0.00000000e+00j  1.56237833e+00-4.97156846e+01j\n",
      " -4.25850363e-02+6.76869769e-01j -3.57787605e-02+3.78499750e-01j\n",
      " -3.38833476e-02+2.68214314e-01j -3.30724162e-02+2.08811018e-01j\n",
      " -3.26479847e-02+1.71146729e-01j -3.23973043e-02+1.44937208e-01j\n",
      " -3.22366676e-02+1.25553531e-01j -3.21274678e-02+1.10583469e-01j\n",
      " -3.20498259e-02+9.86392214e-02j -3.19926363e-02+8.88629658e-02j\n",
      " -3.19492912e-02+8.06946984e-02j -3.19156560e-02+7.37527294e-02j\n",
      " -3.18890343e-02+6.77676474e-02j -3.18676064e-02+6.25436991e-02j\n",
      " -3.18501078e-02+5.79351310e-02j -3.18356374e-02+5.38311230e-02j\n",
      " -3.18235390e-02+5.01458735e-02j -3.18133256e-02+4.68118870e-02j\n",
      " -3.18046293e-02+4.37753167e-02j -3.17971683e-02+4.09926624e-02j\n",
      " -3.17907237e-02+3.84283836e-02j -3.17851234e-02+3.60531455e-02j\n",
      " -3.17802305e-02+3.38425081e-02j -3.17759351e-02+3.17759351e-02j\n",
      " -3.17721482e-02+2.98360331e-02j -3.17687971e-02+2.80079622e-02j\n",
      " -3.17658219e-02+2.62789733e-02j -3.17631731e-02+2.46380426e-02j\n",
      " -3.17608093e-02+2.30755787e-02j -3.17586957e-02+2.15831873e-02j\n",
      " -3.17568032e-02+2.01534801e-02j -3.17551069e-02+1.87799179e-02j\n",
      " -3.17535858e-02+1.74566815e-02j -3.17522219e-02+1.61785651e-02j\n",
      " -3.17509998e-02+1.49408864e-02j -3.17499064e-02+1.37394114e-02j\n",
      " -3.17489303e-02+1.25702908e-02j -3.17480619e-02+1.14300056e-02j\n",
      " -3.17472926e-02+1.03153207e-02j -3.17466154e-02+9.22324438e-03j\n",
      " -3.17460241e-02+8.15099360e-03j -3.17455135e-02+7.09596299e-03j\n",
      " -3.17450793e-02+6.05569774e-03j -3.17447177e-02+5.02786934e-03j\n",
      " -3.17444257e-02+4.01025357e-03j -3.17442010e-02+3.00071048e-03j\n",
      " -3.17440418e-02+1.99716583e-03j -3.17439468e-02+9.97593718e-04j\n",
      " -3.17439152e-02-3.46944695e-18j -3.17439468e-02-9.97593718e-04j\n",
      " -3.17440418e-02-1.99716583e-03j -3.17442010e-02-3.00071048e-03j\n",
      " -3.17444257e-02-4.01025357e-03j -3.17447177e-02-5.02786934e-03j\n",
      " -3.17450793e-02-6.05569774e-03j -3.17455135e-02-7.09596299e-03j\n",
      " -3.17460241e-02-8.15099360e-03j -3.17466154e-02-9.22324438e-03j\n",
      " -3.17472926e-02-1.03153207e-02j -3.17480619e-02-1.14300056e-02j\n",
      " -3.17489303e-02-1.25702908e-02j -3.17499064e-02-1.37394114e-02j\n",
      " -3.17509998e-02-1.49408864e-02j -3.17522219e-02-1.61785651e-02j\n",
      " -3.17535858e-02-1.74566815e-02j -3.17551069e-02-1.87799179e-02j\n",
      " -3.17568032e-02-2.01534801e-02j -3.17586957e-02-2.15831873e-02j\n",
      " -3.17608093e-02-2.30755787e-02j -3.17631731e-02-2.46380426e-02j\n",
      " -3.17658219e-02-2.62789733e-02j -3.17687971e-02-2.80079622e-02j\n",
      " -3.17721482e-02-2.98360331e-02j -3.17759351e-02-3.17759351e-02j\n",
      " -3.17802305e-02-3.38425081e-02j -3.17851234e-02-3.60531455e-02j\n",
      " -3.17907237e-02-3.84283836e-02j -3.17971683e-02-4.09926624e-02j\n",
      " -3.18046293e-02-4.37753167e-02j -3.18133256e-02-4.68118870e-02j\n",
      " -3.18235390e-02-5.01458735e-02j -3.18356374e-02-5.38311230e-02j\n",
      " -3.18501078e-02-5.79351310e-02j -3.18676064e-02-6.25436991e-02j\n",
      " -3.18890343e-02-6.77676474e-02j -3.19156560e-02-7.37527294e-02j\n",
      " -3.19492912e-02-8.06946984e-02j -3.19926363e-02-8.88629658e-02j\n",
      " -3.20498259e-02-9.86392214e-02j -3.21274678e-02-1.10583469e-01j\n",
      " -3.22366676e-02-1.25553531e-01j -3.23973043e-02-1.44937208e-01j\n",
      " -3.26479847e-02-1.71146729e-01j -3.30724162e-02-2.08811018e-01j\n",
      " -3.38833476e-02-2.68214314e-01j -3.57787605e-02-3.78499750e-01j\n",
      " -4.25850363e-02-6.76869769e-01j  1.56237833e+00+4.97156846e+01j]\n"
     ]
    }
   ],
   "source": [
    "x = np.linspace(0, 2*np.pi, 100)\n",
    "y = np.sin(x)\n",
    "fft_y = np.fft.fft(y)\n",
    "print(fft_y)\n"
   ]
  },
  {
   "cell_type": "code",
   "execution_count": 39,
   "id": "154fab25-a6e5-4a65-a040-7255203eca80",
   "metadata": {},
   "outputs": [
    {
     "name": "stdout",
     "output_type": "stream",
     "text": [
      "[6 8]\n"
     ]
    }
   ],
   "source": [
    "arr = np.array([2, 6, 3, 8, 1])\n",
    "mask = arr > 5\n",
    "print(arr[mask])\n"
   ]
  },
  {
   "cell_type": "code",
   "execution_count": 40,
   "id": "aeaae203-8e22-428e-a27b-2efedd800e7d",
   "metadata": {},
   "outputs": [
    {
     "name": "stdout",
     "output_type": "stream",
     "text": [
      "[-1  2 -1  4 -1]\n"
     ]
    }
   ],
   "source": [
    "arr = np.array([1, 2, 3, 4, 5])\n",
    "arr[arr % 2 != 0] = -1\n",
    "print(arr)\n"
   ]
  },
  {
   "cell_type": "code",
   "execution_count": 41,
   "id": "337c5643-64ca-49ba-bc85-068d866c622c",
   "metadata": {},
   "outputs": [
    {
     "ename": "ModuleNotFoundError",
     "evalue": "No module named 'matplotlib'",
     "output_type": "error",
     "traceback": [
      "\u001b[31m---------------------------------------------------------------------------\u001b[39m",
      "\u001b[31mModuleNotFoundError\u001b[39m                       Traceback (most recent call last)",
      "\u001b[36mCell\u001b[39m\u001b[36m \u001b[39m\u001b[32mIn[41]\u001b[39m\u001b[32m, line 2\u001b[39m\n\u001b[32m      1\u001b[39m \u001b[38;5;28;01mimport\u001b[39;00m\u001b[38;5;250m \u001b[39m\u001b[34;01mnumpy\u001b[39;00m\u001b[38;5;250m \u001b[39m\u001b[38;5;28;01mas\u001b[39;00m\u001b[38;5;250m \u001b[39m\u001b[34;01mnp\u001b[39;00m\n\u001b[32m----> \u001b[39m\u001b[32m2\u001b[39m \u001b[38;5;28;01mimport\u001b[39;00m\u001b[38;5;250m \u001b[39m\u001b[34;01mmatplotlib\u001b[39;00m\u001b[34;01m.\u001b[39;00m\u001b[34;01mpyplot\u001b[39;00m\u001b[38;5;250m \u001b[39m\u001b[38;5;28;01mas\u001b[39;00m\u001b[38;5;250m \u001b[39m\u001b[34;01mplt\u001b[39;00m\n\u001b[32m      4\u001b[39m \u001b[38;5;66;03m# Step 1: Simulate a grayscale image (8x8 pixels)\u001b[39;00m\n\u001b[32m      5\u001b[39m image = np.random.randint(\u001b[32m0\u001b[39m, \u001b[32m256\u001b[39m, (\u001b[32m8\u001b[39m, \u001b[32m8\u001b[39m))  \u001b[38;5;66;03m# Values from 0 to 255\u001b[39;00m\n",
      "\u001b[31mModuleNotFoundError\u001b[39m: No module named 'matplotlib'"
     ]
    }
   ],
   "source": [
    "import numpy as np\n",
    "import matplotlib.pyplot as plt\n",
    "\n",
    "# Step 1: Simulate a grayscale image (8x8 pixels)\n",
    "image = np.random.randint(0, 256, (8, 8))  # Values from 0 to 255\n",
    "print(\"Original Image:\\n\", image)\n",
    "\n",
    "# Step 2: Brightness Increase (Vectorized Operation)\n",
    "bright_image = image + 50\n",
    "bright_image = np.clip(bright_image, 0, 255)  # Ensuring values remain 0-255\n",
    "print(\"\\nBrightened Image:\\n\", bright_image)\n",
    "\n",
    "# Step 3: Edge Detection Using a Sobel Kernel (Convolution Simulation)\n",
    "# Kernel for vertical edges\n",
    "sobel_kernel = np.array([[-1, 0, 1],\n",
    "                         [-2, 0, 2],\n",
    "                         [-1, 0, 1]])\n",
    "\n",
    "# Function to apply kernel (simple convolution without padding)\n",
    "def apply_convolution(img, kernel):\n",
    "    output = np.zeros((img.shape[0] - 2, img.shape[1] - 2))\n",
    "    for i in range(output.shape[0]):\n",
    "        for j in range(output.shape[1]):\n",
    "            region = img[i:i+3, j:j+3]\n",
    "            output[i, j] = np.sum(region * kernel)\n",
    "    return output\n",
    "\n",
    "edges = apply_convolution(image, sobel_kernel)\n",
    "print(\"\\nEdge Detected Image:\\n\", edges)\n",
    "\n",
    "# Step 4: FFT - Analyze Frequency Spectrum\n",
    "fft_image = np.fft.fft2(image)\n",
    "magnitude_spectrum = np.abs(fft_image)\n",
    "\n",
    "print(\"\\nFFT Magnitude Spectrum:\\n\", magnitude_spectrum)\n",
    "\n",
    "# Step 5: Visualizations (Optional if using Jupyter)\n",
    "plt.figure(figsize=(12, 4))\n",
    "plt.subplot(1, 3, 1)\n",
    "plt.imshow(image, cmap='gray')\n",
    "plt.title('Original')\n",
    "\n",
    "plt.subplot(1, 3, 2)\n",
    "plt.imshow(bright_image, cmap='gray')\n",
    "plt.title('Brightened')\n",
    "\n",
    "plt.subplot(1, 3, 3)\n",
    "plt.imshow(edges, cmap='gray')\n",
    "plt.title('Edges (Sobel)')\n",
    "\n",
    "plt.tight_layout()\n",
    "plt.show()\n"
   ]
  },
  {
   "cell_type": "code",
   "execution_count": null,
   "id": "10c22745-558f-4b2c-bbc3-b2dfae98a167",
   "metadata": {},
   "outputs": [],
   "source": []
  }
 ],
 "metadata": {
  "kernelspec": {
   "display_name": "Python 3 (ipykernel)",
   "language": "python",
   "name": "python3"
  },
  "language_info": {
   "codemirror_mode": {
    "name": "ipython",
    "version": 3
   },
   "file_extension": ".py",
   "mimetype": "text/x-python",
   "name": "python",
   "nbconvert_exporter": "python",
   "pygments_lexer": "ipython3",
   "version": "3.13.1"
  }
 },
 "nbformat": 4,
 "nbformat_minor": 5
}
